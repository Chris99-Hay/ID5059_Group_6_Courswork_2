{
 "cells": [
  {
   "cell_type": "code",
   "execution_count": 8,
   "metadata": {},
   "outputs": [
    {
     "ename": "ModuleNotFoundError",
     "evalue": "No module named 'xgboost'",
     "output_type": "error",
     "traceback": [
      "\u001b[1;31m---------------------------------------------------------------------------\u001b[0m",
      "\u001b[1;31mModuleNotFoundError\u001b[0m                       Traceback (most recent call last)",
      "\u001b[1;32m<ipython-input-8-7b59af762c6d>\u001b[0m in \u001b[0;36m<module>\u001b[1;34m\u001b[0m\n\u001b[0;32m      7\u001b[0m \u001b[1;32mfrom\u001b[0m \u001b[0msklearn\u001b[0m\u001b[1;33m.\u001b[0m\u001b[0mexperimental\u001b[0m \u001b[1;32mimport\u001b[0m \u001b[0menable_iterative_imputer\u001b[0m\u001b[1;33m\u001b[0m\u001b[0m\n\u001b[0;32m      8\u001b[0m \u001b[1;32mfrom\u001b[0m \u001b[0msklearn\u001b[0m\u001b[1;33m.\u001b[0m\u001b[0mimpute\u001b[0m \u001b[1;32mimport\u001b[0m \u001b[0mIterativeImputer\u001b[0m\u001b[1;33m\u001b[0m\u001b[0m\n\u001b[1;32m----> 9\u001b[1;33m \u001b[1;32mimport\u001b[0m \u001b[0mxgboost\u001b[0m\u001b[1;33m\u001b[0m\u001b[0m\n\u001b[0m",
      "\u001b[1;31mModuleNotFoundError\u001b[0m: No module named 'xgboost'"
     ]
    }
   ],
   "source": [
    "import pandas as pd\n",
    "import numpy as np\n",
    "from sklearn.metrics import mean_squared_error as mse\n",
    "from sklearn import preprocessing as pr\n",
    "from sklearn.preprocessing import MinMaxScaler\n",
    "from sklearn.impute import KNNImputer\n",
    "from sklearn.experimental import enable_iterative_imputer\n",
    "from sklearn.impute import IterativeImputer\n",
    "import xgboost"
   ]
  },
  {
   "cell_type": "code",
   "execution_count": 9,
   "metadata": {},
   "outputs": [],
   "source": [
    "#importing dataset into dataframe\n",
    "set_clean = pd.read_csv(\"./creditcard.csv\")\n",
    "\n",
    "#only imputing and removing attribute values\n",
    "set_clean.drop(\"Class\", axis=1, inplace=True)\n",
    "\n",
    "#copying dataset to keep clean set for evaluation\n",
    "set = set_clean.copy()\n",
    "\n",
    "#removing 5% of each column ranodmly for fair imputation analysis\n",
    "for col in set.columns:\n",
    "    set.loc[set.sample(frac=0.05, random_state=1).index, col] = np.nan"
   ]
  },
  {
   "cell_type": "code",
   "execution_count": 10,
   "metadata": {},
   "outputs": [],
   "source": [
    "#Since KNN and XGBoost imputation methods require data to be normalized, clean and imputed datasets are normalized for \n",
    "#fair comparison between diferent approaches\n",
    "scaler = MinMaxScaler()\n",
    "set_norm = set.copy(deep=True)\n",
    "set_norm = pd.DataFrame(scaler.fit_transform(set_norm), columns = set_norm.columns)\n",
    "set_clean_norm = set_clean.copy(deep=True)\n",
    "set_clean_norm = pd.DataFrame(scaler.fit_transform(set_clean_norm), columns = set_clean_norm.columns)"
   ]
  },
  {
   "cell_type": "code",
   "execution_count": 12,
   "metadata": {},
   "outputs": [
    {
     "name": "stdout",
     "output_type": "stream",
     "text": [
      "Norm. ffill RMSE: 0.012244\n"
     ]
    }
   ],
   "source": [
    "#First will try a simple imputation method: filling with the last observable value\n",
    "set_ffill_norm = set_norm.copy(deep=True)\n",
    "set_ffill_norm.fillna(method='ffill',inplace=True)\n",
    "rmse = np.sqrt(mse(set_ffill_norm, set_clean_norm))\n",
    "print(\"Norm. ffill RMSE: {0:.5g}\".format(rmse))\n",
    "del set_ffill_norm\n",
    "del rmse"
   ]
  },
  {
   "cell_type": "code",
   "execution_count": 13,
   "metadata": {},
   "outputs": [
    {
     "name": "stdout",
     "output_type": "stream",
     "text": [
      "Norm. linear interpolation RMSE: 0.010612\n"
     ]
    }
   ],
   "source": [
    "#Trying linear interpolation, predicted to be bad since the datais not linear\n",
    "set_lin_norm = set_norm.copy(deep=True)\n",
    "set_lin_norm.interpolate(limit_direction=\"both\",inplace=True)\n",
    "rmse = np.sqrt(mse(set_lin_norm, set_clean_norm))\n",
    "print(\"Norm. linear interpolation RMSE: {0:.5g}\".format(rmse))\n",
    "del set_lin_norm\n",
    "del rmse"
   ]
  },
  {
   "cell_type": "code",
   "execution_count": null,
   "metadata": {},
   "outputs": [],
   "source": [
    "#Trying KNN imputation algorithm\n",
    "#here, n_neighbors is a hyperparameter.\n",
    "#Running this code for different values gave the same result.\n",
    "set_knn_norm = set_norm.copy(deep=True)\n",
    "knn_imputer = KNNImputer(n_neighbors=2, weights=\"uniform\")\n",
    "set_knn_norm = knn_imputer.fit_transform(set_knn_norm)\n",
    "rmse = np.sqrt(mse(set_knn_norm, set_clean_norm))\n",
    "print(\"KNN RMSE: {0:.5g}\".format(rmse))\n",
    "del set_knn_norm\n",
    "del knn_imputer\n",
    "del rmse\n"
   ]
  },
  {
   "cell_type": "code",
   "execution_count": null,
   "metadata": {},
   "outputs": [],
   "source": [
    "#Now attempting XGB regressor.\n",
    "#Default hyperparameters gave the best result on a smaller version of the dataset, compared to tuned versions.\n",
    "iimp = IterativeImputer(\n",
    "    estimator = xgboost.XGBRegressor(),\n",
    "    random_state = 1,\n",
    "    verbose = 2,\n",
    ")\n",
    "set_xgb_norm = set_norm.copy(deep=True)\n",
    "set1_xgb_norm = iimp.fit_transform(set_xgb_norm)\n",
    "\n",
    "rmse = np.sqrt(mse(set_xgb_norm, set_clean_norm))\n",
    "print(\"XGBoost RMSE: {0:.5g}\".format(rmse))\n",
    "del set_xgb_norm\n",
    "del rmse"
   ]
  },
  {
   "cell_type": "code",
   "execution_count": null,
   "metadata": {},
   "outputs": [],
   "source": []
  },
  {
   "cell_type": "code",
   "execution_count": null,
   "metadata": {},
   "outputs": [],
   "source": []
  },
  {
   "cell_type": "code",
   "execution_count": null,
   "metadata": {},
   "outputs": [],
   "source": []
  },
  {
   "cell_type": "code",
   "execution_count": null,
   "metadata": {},
   "outputs": [],
   "source": []
  }
 ],
 "metadata": {
  "kernelspec": {
   "display_name": "Python 3",
   "language": "python",
   "name": "python3"
  },
  "language_info": {
   "codemirror_mode": {
    "name": "ipython",
    "version": 3
   },
   "file_extension": ".py",
   "mimetype": "text/x-python",
   "name": "python",
   "nbconvert_exporter": "python",
   "pygments_lexer": "ipython3",
   "version": "3.6.5"
  }
 },
 "nbformat": 4,
 "nbformat_minor": 4
}
